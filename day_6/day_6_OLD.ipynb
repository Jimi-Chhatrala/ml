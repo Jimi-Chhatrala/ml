{
 "cells": [
  {
   "cell_type": "code",
   "execution_count": 3,
   "id": "a220683a",
   "metadata": {},
   "outputs": [
    {
     "ename": "SyntaxError",
     "evalue": "invalid syntax (Temp/ipykernel_8836/3660245105.py, line 5)",
     "output_type": "error",
     "traceback": [
      "\u001b[1;36m  File \u001b[1;32m\"C:\\Users\\MCAB21~1\\AppData\\Local\\Temp/ipykernel_8836/3660245105.py\"\u001b[1;36m, line \u001b[1;32m5\u001b[0m\n\u001b[1;33m    pip install apyori\u001b[0m\n\u001b[1;37m        ^\u001b[0m\n\u001b[1;31mSyntaxError\u001b[0m\u001b[1;31m:\u001b[0m invalid syntax\n"
     ]
    }
   ],
   "source": [
    "import pandas as pd\n",
    "# import matplotlib.pyplot as plt\n",
    "# from sklearn import linear_model\n",
    "# from scipy.stats import chi2_contigency\n",
    "pip install apyori\n",
    "# from apyori import apriori\n",
    "# store_data = pd.read_csv(r'Z:\\SEM-3\\ML\\day_6\\apriori.csv')\n",
    "# store_data\n",
    "\n",
    "\n",
    "\n",
    "# store_data.shape"
   ]
  },
  {
   "cell_type": "code",
   "execution_count": 7,
   "id": "c93d6ace",
   "metadata": {},
   "outputs": [],
   "source": [
    "records = []\n",
    "for i in range(0,22):\n",
    "    records.append([str(store_data.values[i,j])] for j in range(0,6))"
   ]
  },
  {
   "cell_type": "code",
   "execution_count": 8,
   "id": "e7a524e2",
   "metadata": {},
   "outputs": [
    {
     "ename": "NameError",
     "evalue": "name 'apriori' is not defined",
     "output_type": "error",
     "traceback": [
      "\u001b[1;31m---------------------------------------------------------------------------\u001b[0m",
      "\u001b[1;31mNameError\u001b[0m                                 Traceback (most recent call last)",
      "\u001b[1;32mC:\\Users\\MCAB21~1\\AppData\\Local\\Temp/ipykernel_11452/2110717045.py\u001b[0m in \u001b[0;36m<module>\u001b[1;34m\u001b[0m\n\u001b[1;32m----> 1\u001b[1;33m \u001b[0massociation_rules\u001b[0m \u001b[1;33m=\u001b[0m \u001b[0mapriori\u001b[0m\u001b[1;33m(\u001b[0m\u001b[0mrecords\u001b[0m\u001b[1;33m,\u001b[0m\u001b[0mmin_support\u001b[0m \u001b[1;33m=\u001b[0m \u001b[1;36m0.50\u001b[0m\u001b[1;33m,\u001b[0m\u001b[0mmin_confidence\u001b[0m\u001b[1;33m=\u001b[0m\u001b[1;36m0.7\u001b[0m\u001b[1;33m,\u001b[0m\u001b[0mmin_lift\u001b[0m\u001b[1;33m=\u001b[0m\u001b[1;36m1.2\u001b[0m\u001b[1;33m,\u001b[0m\u001b[0mmin_length\u001b[0m\u001b[1;33m=\u001b[0m\u001b[1;36m2\u001b[0m\u001b[1;33m)\u001b[0m\u001b[1;33m\u001b[0m\u001b[1;33m\u001b[0m\u001b[0m\n\u001b[0m",
      "\u001b[1;31mNameError\u001b[0m: name 'apriori' is not defined"
     ]
    }
   ],
   "source": [
    "association_rules = apriori(records,min_support = 0.50,min_confidence=0.7,min_lift=1.2,min_length=2)"
   ]
  },
  {
   "cell_type": "code",
   "execution_count": null,
   "id": "ec65a5db",
   "metadata": {},
   "outputs": [],
   "source": []
  }
 ],
 "metadata": {
  "kernelspec": {
   "display_name": "Python 3 (ipykernel)",
   "language": "python",
   "name": "python3"
  },
  "language_info": {
   "codemirror_mode": {
    "name": "ipython",
    "version": 3
   },
   "file_extension": ".py",
   "mimetype": "text/x-python",
   "name": "python",
   "nbconvert_exporter": "python",
   "pygments_lexer": "ipython3",
   "version": "3.9.7"
  }
 },
 "nbformat": 4,
 "nbformat_minor": 5
}
